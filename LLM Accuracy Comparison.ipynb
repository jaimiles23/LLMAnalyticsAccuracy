{
 "cells": [
  {
   "cell_type": "markdown",
   "id": "400efcd9",
   "metadata": {},
   "source": [
    "# Readme\n",
    "This notebook ... MASTERS INFO HERE"
   ]
  },
  {
   "cell_type": "markdown",
   "id": "741998f5",
   "metadata": {},
   "source": [
    "# Setup"
   ]
  },
  {
   "cell_type": "markdown",
   "id": "f70e3374",
   "metadata": {},
   "source": [
    "## Imports"
   ]
  },
  {
   "cell_type": "code",
   "execution_count": 1,
   "id": "1b221792",
   "metadata": {},
   "outputs": [],
   "source": [
    "import pandas as pd\n",
    "import numpy as np\n",
    "import seaborn as sns"
   ]
  },
  {
   "cell_type": "code",
   "execution_count": 2,
   "id": "93f4582f",
   "metadata": {},
   "outputs": [],
   "source": [
    "from scipy.stats import chi2_contingency # chisquare"
   ]
  },
  {
   "cell_type": "markdown",
   "id": "5325627e",
   "metadata": {},
   "source": [
    "## Constants"
   ]
  },
  {
   "cell_type": "code",
   "execution_count": 3,
   "id": "c40a47c3",
   "metadata": {},
   "outputs": [],
   "source": [
    "FN_IN = r\"C:\\Users\\jaimi\\OneDrive\\Desktop\\wgu\\D214\\LLMAnalyticsAccuracy\\data\\llm_accuracy.csv\""
   ]
  },
  {
   "cell_type": "markdown",
   "id": "2816901c",
   "metadata": {},
   "source": [
    "# Load Data"
   ]
  },
  {
   "cell_type": "code",
   "execution_count": 4,
   "id": "1e924e52",
   "metadata": {},
   "outputs": [],
   "source": [
    "df_load = pd.read_csv(FN_IN)"
   ]
  },
  {
   "cell_type": "code",
   "execution_count": 5,
   "id": "f7932cb8",
   "metadata": {},
   "outputs": [
    {
     "data": {
      "text/html": [
       "<div>\n",
       "<style scoped>\n",
       "    .dataframe tbody tr th:only-of-type {\n",
       "        vertical-align: middle;\n",
       "    }\n",
       "\n",
       "    .dataframe tbody tr th {\n",
       "        vertical-align: top;\n",
       "    }\n",
       "\n",
       "    .dataframe thead th {\n",
       "        text-align: right;\n",
       "    }\n",
       "</style>\n",
       "<table border=\"1\" class=\"dataframe\">\n",
       "  <thead>\n",
       "    <tr style=\"text-align: right;\">\n",
       "      <th></th>\n",
       "      <th>Unnamed: 0</th>\n",
       "      <th>test_type</th>\n",
       "      <th>sql_query</th>\n",
       "      <th>sql_result</th>\n",
       "      <th>llm_user_query</th>\n",
       "      <th>llm_sql_query</th>\n",
       "      <th>llm_result</th>\n",
       "      <th>correct_result</th>\n",
       "    </tr>\n",
       "  </thead>\n",
       "  <tbody>\n",
       "    <tr>\n",
       "      <th>0</th>\n",
       "      <td>0</td>\n",
       "      <td>last_update</td>\n",
       "      <td>SELECT last_update FROM dw_financial_instituti...</td>\n",
       "      <td>1990-10-04 00:00:00</td>\n",
       "      <td>What was the last update for The Southington B...</td>\n",
       "      <td>SELECT \"last_update\" FROM dw_financial_institu...</td>\n",
       "      <td>1990-10-04 00:00:00</td>\n",
       "      <td>1</td>\n",
       "    </tr>\n",
       "    <tr>\n",
       "      <th>1</th>\n",
       "      <td>1</td>\n",
       "      <td>join_max</td>\n",
       "      <td>SELECT max(total_assets) FROM dw_financial_ins...</td>\n",
       "      <td>NaN</td>\n",
       "      <td>What is the maximum total assets The Southingt...</td>\n",
       "      <td>SELECT MAX(total_assets) FROM dw_financial_ins...</td>\n",
       "      <td>NaN</td>\n",
       "      <td>1</td>\n",
       "    </tr>\n",
       "    <tr>\n",
       "      <th>2</th>\n",
       "      <td>2</td>\n",
       "      <td>last_update</td>\n",
       "      <td>SELECT last_update FROM dw_financial_instituti...</td>\n",
       "      <td>1995-10-06 00:00:00</td>\n",
       "      <td>What was the last update for Bank of New Engla...</td>\n",
       "      <td>SELECT dw_financial_institution_profiles.last_...</td>\n",
       "      <td>1995-10-06 00:00:00</td>\n",
       "      <td>1</td>\n",
       "    </tr>\n",
       "    <tr>\n",
       "      <th>3</th>\n",
       "      <td>3</td>\n",
       "      <td>join_max</td>\n",
       "      <td>SELECT max(total_assets) FROM dw_financial_ins...</td>\n",
       "      <td>153274</td>\n",
       "      <td>What is the maximum total assets Bank of New E...</td>\n",
       "      <td>SELECT MAX(total_assets) FROM dw_financial_ins...</td>\n",
       "      <td>NaN</td>\n",
       "      <td>0</td>\n",
       "    </tr>\n",
       "    <tr>\n",
       "      <th>4</th>\n",
       "      <td>4</td>\n",
       "      <td>last_update</td>\n",
       "      <td>SELECT last_update FROM dw_financial_instituti...</td>\n",
       "      <td>2000-03-29 00:00:00</td>\n",
       "      <td>What was the last update for SunTrust Bank, Ta...</td>\n",
       "      <td>SELECT dw_financial_institution_profiles.last_...</td>\n",
       "      <td>NaN</td>\n",
       "      <td>0</td>\n",
       "    </tr>\n",
       "  </tbody>\n",
       "</table>\n",
       "</div>"
      ],
      "text/plain": [
       "   Unnamed: 0    test_type                                          sql_query  \\\n",
       "0           0  last_update  SELECT last_update FROM dw_financial_instituti...   \n",
       "1           1     join_max  SELECT max(total_assets) FROM dw_financial_ins...   \n",
       "2           2  last_update  SELECT last_update FROM dw_financial_instituti...   \n",
       "3           3     join_max  SELECT max(total_assets) FROM dw_financial_ins...   \n",
       "4           4  last_update  SELECT last_update FROM dw_financial_instituti...   \n",
       "\n",
       "            sql_result                                     llm_user_query  \\\n",
       "0  1990-10-04 00:00:00  What was the last update for The Southington B...   \n",
       "1                  NaN  What is the maximum total assets The Southingt...   \n",
       "2  1995-10-06 00:00:00  What was the last update for Bank of New Engla...   \n",
       "3               153274  What is the maximum total assets Bank of New E...   \n",
       "4  2000-03-29 00:00:00  What was the last update for SunTrust Bank, Ta...   \n",
       "\n",
       "                                       llm_sql_query           llm_result  \\\n",
       "0  SELECT \"last_update\" FROM dw_financial_institu...  1990-10-04 00:00:00   \n",
       "1  SELECT MAX(total_assets) FROM dw_financial_ins...                  NaN   \n",
       "2  SELECT dw_financial_institution_profiles.last_...  1995-10-06 00:00:00   \n",
       "3  SELECT MAX(total_assets) FROM dw_financial_ins...                  NaN   \n",
       "4  SELECT dw_financial_institution_profiles.last_...                  NaN   \n",
       "\n",
       "   correct_result  \n",
       "0               1  \n",
       "1               1  \n",
       "2               1  \n",
       "3               0  \n",
       "4               0  "
      ]
     },
     "execution_count": 5,
     "metadata": {},
     "output_type": "execute_result"
    }
   ],
   "source": [
    "df_load.head()"
   ]
  },
  {
   "cell_type": "code",
   "execution_count": 6,
   "id": "28d253bb",
   "metadata": {},
   "outputs": [
    {
     "data": {
      "text/plain": [
       "(8000, 8)"
      ]
     },
     "execution_count": 6,
     "metadata": {},
     "output_type": "execute_result"
    }
   ],
   "source": [
    "df_load.shape"
   ]
  },
  {
   "cell_type": "markdown",
   "id": "365a6042",
   "metadata": {},
   "source": [
    "# Chi-Square"
   ]
  },
  {
   "cell_type": "markdown",
   "id": "f3ac1a0e",
   "metadata": {},
   "source": [
    "## Contingency Table"
   ]
  },
  {
   "cell_type": "code",
   "execution_count": 7,
   "id": "dbdb2700",
   "metadata": {},
   "outputs": [],
   "source": [
    "df_crosstab = pd.crosstab(\n",
    "    df_load['test_type'], \n",
    "    df_load['correct_result']\n",
    ")\n"
   ]
  },
  {
   "cell_type": "code",
   "execution_count": 8,
   "id": "2ed50a6a",
   "metadata": {},
   "outputs": [
    {
     "data": {
      "text/html": [
       "<div>\n",
       "<style scoped>\n",
       "    .dataframe tbody tr th:only-of-type {\n",
       "        vertical-align: middle;\n",
       "    }\n",
       "\n",
       "    .dataframe tbody tr th {\n",
       "        vertical-align: top;\n",
       "    }\n",
       "\n",
       "    .dataframe thead th {\n",
       "        text-align: right;\n",
       "    }\n",
       "</style>\n",
       "<table border=\"1\" class=\"dataframe\">\n",
       "  <thead>\n",
       "    <tr style=\"text-align: right;\">\n",
       "      <th>correct_result</th>\n",
       "      <th>0</th>\n",
       "      <th>1</th>\n",
       "    </tr>\n",
       "    <tr>\n",
       "      <th>test_type</th>\n",
       "      <th></th>\n",
       "      <th></th>\n",
       "    </tr>\n",
       "  </thead>\n",
       "  <tbody>\n",
       "    <tr>\n",
       "      <th>join_max</th>\n",
       "      <td>3052</td>\n",
       "      <td>948</td>\n",
       "    </tr>\n",
       "    <tr>\n",
       "      <th>last_update</th>\n",
       "      <td>96</td>\n",
       "      <td>3904</td>\n",
       "    </tr>\n",
       "  </tbody>\n",
       "</table>\n",
       "</div>"
      ],
      "text/plain": [
       "correct_result     0     1\n",
       "test_type                 \n",
       "join_max        3052   948\n",
       "last_update       96  3904"
      ]
     },
     "execution_count": 8,
     "metadata": {},
     "output_type": "execute_result"
    }
   ],
   "source": [
    "df_crosstab"
   ]
  },
  {
   "cell_type": "code",
   "execution_count": 9,
   "id": "92f687aa",
   "metadata": {},
   "outputs": [],
   "source": [
    "res= chi2_contingency(df_crosstab)"
   ]
  },
  {
   "cell_type": "code",
   "execution_count": 10,
   "id": "f2406817",
   "metadata": {},
   "outputs": [
    {
     "data": {
      "text/plain": [
       "Chi2ContingencyResult(statistic=4573.507983713079, pvalue=0.0, dof=1, expected_freq=array([[1574., 2426.],\n",
       "       [1574., 2426.]]))"
      ]
     },
     "execution_count": 10,
     "metadata": {},
     "output_type": "execute_result"
    }
   ],
   "source": [
    "res"
   ]
  },
  {
   "cell_type": "code",
   "execution_count": 11,
   "id": "39978a96",
   "metadata": {},
   "outputs": [],
   "source": [
    "df_crosstab_norm = pd.crosstab(\n",
    "    df_load['test_type'], \n",
    "    df_load['correct_result'], \n",
    "    normalize = 'index'\n",
    ")"
   ]
  },
  {
   "cell_type": "code",
   "execution_count": 12,
   "id": "88a24ae1",
   "metadata": {},
   "outputs": [
    {
     "data": {
      "text/html": [
       "<div>\n",
       "<style scoped>\n",
       "    .dataframe tbody tr th:only-of-type {\n",
       "        vertical-align: middle;\n",
       "    }\n",
       "\n",
       "    .dataframe tbody tr th {\n",
       "        vertical-align: top;\n",
       "    }\n",
       "\n",
       "    .dataframe thead th {\n",
       "        text-align: right;\n",
       "    }\n",
       "</style>\n",
       "<table border=\"1\" class=\"dataframe\">\n",
       "  <thead>\n",
       "    <tr style=\"text-align: right;\">\n",
       "      <th>correct_result</th>\n",
       "      <th>0</th>\n",
       "      <th>1</th>\n",
       "    </tr>\n",
       "    <tr>\n",
       "      <th>test_type</th>\n",
       "      <th></th>\n",
       "      <th></th>\n",
       "    </tr>\n",
       "  </thead>\n",
       "  <tbody>\n",
       "    <tr>\n",
       "      <th>join_max</th>\n",
       "      <td>0.763</td>\n",
       "      <td>0.237</td>\n",
       "    </tr>\n",
       "    <tr>\n",
       "      <th>last_update</th>\n",
       "      <td>0.024</td>\n",
       "      <td>0.976</td>\n",
       "    </tr>\n",
       "  </tbody>\n",
       "</table>\n",
       "</div>"
      ],
      "text/plain": [
       "correct_result      0      1\n",
       "test_type                   \n",
       "join_max        0.763  0.237\n",
       "last_update     0.024  0.976"
      ]
     },
     "execution_count": 12,
     "metadata": {},
     "output_type": "execute_result"
    }
   ],
   "source": [
    "df_crosstab_norm"
   ]
  },
  {
   "cell_type": "code",
   "execution_count": 13,
   "id": "9d741fd5",
   "metadata": {},
   "outputs": [
    {
     "data": {
      "text/plain": [
       "<Axes: xlabel='correct_result', ylabel='test_type'>"
      ]
     },
     "execution_count": 13,
     "metadata": {},
     "output_type": "execute_result"
    },
    {
     "data": {
      "image/png": "[encoded data removed]",
      "text/plain": [
       "<Figure size 640x480 with 2 Axes>"
      ]
     },
     "metadata": {},
     "output_type": "display_data"
    }
   ],
   "source": [
    "sns.heatmap(df_crosstab_norm, annot = True)"
   ]
  },
  {
   "cell_type": "code",
   "execution_count": null,
   "id": "ca2278d8",
   "metadata": {},
   "outputs": [],
   "source": []
  }
 ],
 "metadata": {
  "kernelspec": {
   "display_name": "Python 3 (ipykernel)",
   "language": "python",
   "name": "python3"
  },
  "language_info": {
   "codemirror_mode": {
    "name": "ipython",
    "version": 3
   },
   "file_extension": ".py",
   "mimetype": "text/x-python",
   "name": "python",
   "nbconvert_exporter": "python",
   "pygments_lexer": "ipython3",
   "version": "3.10.9"
  }
 },
 "nbformat": 4,
 "nbformat_minor": 5
}
